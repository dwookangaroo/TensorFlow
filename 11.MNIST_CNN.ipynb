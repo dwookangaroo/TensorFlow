{
 "cells": [
  {
   "cell_type": "code",
   "execution_count": 4,
   "id": "67a4ada6",
   "metadata": {},
   "outputs": [],
   "source": [
    "from tensorflow.keras.datasets import mnist\n",
    "from tensorflow.keras.utils import to_categorical\n",
    "from tensorflow.keras.models import Sequential\n",
    "from tensorflow.keras.layers import Dense, Dropout, Flatten, Conv2D, MaxPooling2D\n",
    "from tensorflow.keras.callbacks import ModelCheckpoint, EarlyStopping\n",
    "\n",
    "import matplotlib.pyplot as plt\n",
    "import numpy as np\n",
    "import sys\n",
    "import os\n",
    "import tensorflow as tf"
   ]
  },
  {
   "cell_type": "code",
   "execution_count": 13,
   "id": "bcf42c78",
   "metadata": {},
   "outputs": [],
   "source": [
    "(X_train, y_train), (X_test, y_test) = mnist.load_data()\n",
    "X_train = X_train.reshape(X_train.shape[0], 28, 28, 1) \n",
    "X_train = X_train.astype(float)\n",
    "X_train = X_train / 255\n",
    "\n",
    "X_test = X_test.reshape(X_test.shape[0], 28, 28, 1).astype(float) / 255\n",
    "y_train = to_categorical(y_train, 10)\n",
    "y_test = to_categorical(y_test, 10)"
   ]
  },
  {
   "cell_type": "code",
   "execution_count": 14,
   "id": "d51d1b12",
   "metadata": {},
   "outputs": [],
   "source": [
    "model = Sequential()\n",
    "model.add(Conv2D(32, kernel_size=(3,3), input_shape=(28, 28, 1), \\\n",
    "                    activation='relu')) \n",
    "# kernel값이 \n",
    "#출력을 32개를 하겟다\n",
    "#input shape는 항상 3차원배열\n",
    "\n",
    "model.add(Conv2D(64, (3,3), activation='relu'))\n",
    "model.add(MaxPooling2D(pool_size=2)) # pool_size 는 2X2 커널\n",
    "model.add(Dropout(0.25)) # 위에서 들어오는 노드의 25프로를 날려버린다(영향을못주게)\n",
    "model.add(Flatten())# 1차원으로\n",
    "model.add(Dense(128, activation='relu'))\n",
    "model.add(Dropout(0.5))\n",
    "model.add(Dense(10, activation='softmax'))\n"
   ]
  },
  {
   "cell_type": "code",
   "execution_count": 15,
   "id": "46d33a7c",
   "metadata": {},
   "outputs": [
    {
     "name": "stdout",
     "output_type": "stream",
     "text": [
      "Model: \"sequential_1\"\n",
      "_________________________________________________________________\n",
      "Layer (type)                 Output Shape              Param #   \n",
      "=================================================================\n",
      "conv2d_2 (Conv2D)            (None, 26, 26, 32)        320       \n",
      "_________________________________________________________________\n",
      "conv2d_3 (Conv2D)            (None, 24, 24, 64)        18496     \n",
      "_________________________________________________________________\n",
      "max_pooling2d_1 (MaxPooling2 (None, 12, 12, 64)        0         \n",
      "_________________________________________________________________\n",
      "dropout_2 (Dropout)          (None, 12, 12, 64)        0         \n",
      "_________________________________________________________________\n",
      "flatten_1 (Flatten)          (None, 9216)              0         \n",
      "_________________________________________________________________\n",
      "dense_2 (Dense)              (None, 128)               1179776   \n",
      "_________________________________________________________________\n",
      "dropout_3 (Dropout)          (None, 128)               0         \n",
      "_________________________________________________________________\n",
      "dense_3 (Dense)              (None, 10)                1290      \n",
      "=================================================================\n",
      "Total params: 1,199,882\n",
      "Trainable params: 1,199,882\n",
      "Non-trainable params: 0\n",
      "_________________________________________________________________\n"
     ]
    }
   ],
   "source": [
    "model.summary()"
   ]
  },
  {
   "cell_type": "code",
   "execution_count": 16,
   "id": "f757478a",
   "metadata": {},
   "outputs": [],
   "source": [
    "MODEL_DIR = './model/'\n",
    "\n",
    "if not os.path.exists(MODEL_DIR):\n",
    "    os.mkdir(MODEL_DIR)\n",
    "\n",
    "from tensorflow.keras.callbacks import ModelCheckpoint, EarlyStopping\n",
    "    \n",
    "modelpath='./model/{epoch:02d}-{val_loss:.4f}.hdf5'\n",
    "checkpoint = ModelCheckpoint(filepath=modelpath,\\\n",
    "                            monitor='val_loss',\\\n",
    "                            verbose=1, save_best_only=True)\n",
    "early_stopping_callback = EarlyStopping(monitor='val_loss',\\\n",
    "                                       patience=10)"
   ]
  },
  {
   "cell_type": "code",
   "execution_count": 17,
   "id": "ef580370",
   "metadata": {},
   "outputs": [],
   "source": [
    "model.compile(loss='categorical_crossentropy', \\\n",
    "             optimizer='adam',\\\n",
    "             metrics=['accuracy'])"
   ]
  },
  {
   "cell_type": "code",
   "execution_count": 18,
   "id": "fde16765",
   "metadata": {},
   "outputs": [
    {
     "name": "stdout",
     "output_type": "stream",
     "text": [
      "\n",
      "Epoch 00001: val_loss improved from inf to 0.05291, saving model to ./model\\01-0.0529.hdf5\n",
      "\n",
      "Epoch 00002: val_loss improved from 0.05291 to 0.03634, saving model to ./model\\02-0.0363.hdf5\n",
      "\n",
      "Epoch 00003: val_loss improved from 0.03634 to 0.03433, saving model to ./model\\03-0.0343.hdf5\n",
      "\n",
      "Epoch 00004: val_loss improved from 0.03433 to 0.03188, saving model to ./model\\04-0.0319.hdf5\n",
      "\n",
      "Epoch 00005: val_loss improved from 0.03188 to 0.02707, saving model to ./model\\05-0.0271.hdf5\n",
      "\n",
      "Epoch 00006: val_loss did not improve from 0.02707\n",
      "\n",
      "Epoch 00007: val_loss did not improve from 0.02707\n",
      "\n",
      "Epoch 00008: val_loss did not improve from 0.02707\n",
      "\n",
      "Epoch 00009: val_loss did not improve from 0.02707\n",
      "\n",
      "Epoch 00010: val_loss improved from 0.02707 to 0.02666, saving model to ./model\\10-0.0267.hdf5\n",
      "\n",
      "Epoch 00011: val_loss did not improve from 0.02666\n",
      "\n",
      "Epoch 00012: val_loss did not improve from 0.02666\n",
      "\n",
      "Epoch 00013: val_loss did not improve from 0.02666\n",
      "\n",
      "Epoch 00014: val_loss did not improve from 0.02666\n",
      "\n",
      "Epoch 00015: val_loss did not improve from 0.02666\n",
      "\n",
      "Epoch 00016: val_loss did not improve from 0.02666\n",
      "\n",
      "Epoch 00017: val_loss did not improve from 0.02666\n",
      "\n",
      "Epoch 00018: val_loss did not improve from 0.02666\n",
      "\n",
      "Epoch 00019: val_loss did not improve from 0.02666\n",
      "\n",
      "Epoch 00020: val_loss did not improve from 0.02666\n"
     ]
    }
   ],
   "source": [
    "history = model.fit(X_train, y_train, validation_data=\\\n",
    "                   (X_test, y_test), epochs=30, batch_size=200,\\\n",
    "                    verbose=0, \\\n",
    "                    callbacks=[early_stopping_callback,\\\n",
    "                               checkpoint])"
   ]
  },
  {
   "cell_type": "code",
   "execution_count": 19,
   "id": "2940c804",
   "metadata": {},
   "outputs": [
    {
     "name": "stdout",
     "output_type": "stream",
     "text": [
      "313/313 [==============================] - 5s 17ms/step - loss: 0.0309 - accuracy: 0.9925\n",
      "\n",
      " Test Accuracy: 0.9925\n"
     ]
    }
   ],
   "source": [
    "print(\"\\n Test Accuracy: %.4f\" % \\\n",
    "     (model.evaluate(X_test, y_test)[1]))\n"
   ]
  },
  {
   "cell_type": "code",
   "execution_count": 20,
   "id": "990c0fd4",
   "metadata": {},
   "outputs": [
    {
     "data": {
      "image/png": "[encoded data removed]",
      "text/plain": [
       "<Figure size 432x288 with 1 Axes>"
      ]
     },
     "metadata": {
      "needs_background": "light"
     },
     "output_type": "display_data"
    }
   ],
   "source": [
    "y_vloss = history.history['val_loss'] # test\n",
    "y_loss = history.history['loss'] # train\n",
    "\n",
    "x_len = np.arange(len(y_loss))\n",
    "plt.plot(x_len, y_vloss, marker='.', c='red', \\\n",
    "        label='Testset_loss')\n",
    "plt.plot(x_len, y_loss, marker='.', c='blue', \\\n",
    "        label='Trainset_loss')\n",
    "plt.legend(loc='upper right')\n",
    "plt.grid()\n",
    "plt.xlabel('epoch')\n",
    "plt.ylabel('loss')\n",
    "plt.show()"
   ]
  }
 ],
 "metadata": {
  "kernelspec": {
   "display_name": "Python 3",
   "language": "python",
   "name": "python3"
  },
  "language_info": {
   "codemirror_mode": {
    "name": "ipython",
    "version": 3
   },
   "file_extension": ".py",
   "mimetype": "text/x-python",
   "name": "python",
   "nbconvert_exporter": "python",
   "pygments_lexer": "ipython3",
   "version": "3.8.11"
  }
 },
 "nbformat": 4,
 "nbformat_minor": 5
}
