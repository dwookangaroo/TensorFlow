{
 "cells": [
  {
   "cell_type": "code",
   "execution_count": 1,
   "id": "70b9e10d",
   "metadata": {},
   "outputs": [],
   "source": [
    "\n",
    "from tensorflow.keras.models import Sequential, Model\n",
    "from tensorflow.keras.layers import Dense, MaxPooling2D, Flatten, Input, Reshape,\\\n",
    "                                                 Activation, LeakyReLU, UpSampling2D, Conv2D\n",
    "\n",
    "# 데이터셋\n",
    "from tensorflow.keras.datasets import mnist\n",
    "\n",
    "import numpy as np\n",
    "\n",
    "import matplotlib.pyplot as plt"
   ]
  },
  {
   "cell_type": "code",
   "execution_count": 2,
   "id": "a1ec3c24",
   "metadata": {},
   "outputs": [],
   "source": [
    "(X_train, _), (X_test, _) = mnist.load_data()\n",
    "X_train = X_train.reshape(X_train.shape[0], 28, 28, 1).astype('float32') / 255\n",
    "X_test = X_test.reshape(X_test.shape[0], 28, 28, 1).astype('float32') / 255"
   ]
  },
  {
   "cell_type": "code",
   "execution_count": 3,
   "id": "1b51bed2",
   "metadata": {},
   "outputs": [],
   "source": [
    "autoencoder = Sequential()\n",
    "#encoding (줄이기)\n",
    "autoencoder.add(Conv2D(16, kernel_size=3,\\\n",
    "                       padding='same', input_shape=(28,28,1), activation='relu'))\n",
    "autoencoder.add(MaxPooling2D(pool_size=2, padding='same'))\n",
    "autoencoder.add(Conv2D(8, kernel_size=3, activation='relu', \\\n",
    "                              padding='same'))\n",
    "autoencoder.add(MaxPooling2D(pool_size=2, padding='same'))\n",
    "autoencoder.add(Conv2D(8, kernel_size=3, strides=2, \\\n",
    "                              padding='same', activation='relu'))\n",
    "\n",
    "#decoding (다시 늘리기)\n",
    "autoencoder.add(Conv2D(8, kernel_size=3, padding='same', activation='relu'))\n",
    "autoencoder.add(UpSampling2D())\n",
    "autoencoder.add(Conv2D(8, kernel_size=3, padding='same', activation='relu'))\n",
    "autoencoder.add(UpSampling2D())\n",
    "autoencoder.add(Conv2D(16, kernel_size=3, activation='relu'))\n",
    "autoencoder.add(UpSampling2D())\n",
    "autoencoder.add(Conv2D(1, kernel_size=3, padding='same', activation='sigmoid'))"
   ]
  },
  {
   "cell_type": "code",
   "execution_count": 4,
   "id": "16023718",
   "metadata": {
    "scrolled": false
   },
   "outputs": [
    {
     "name": "stdout",
     "output_type": "stream",
     "text": [
      "Model: \"sequential\"\n",
      "_________________________________________________________________\n",
      "Layer (type)                 Output Shape              Param #   \n",
      "=================================================================\n",
      "conv2d (Conv2D)              (None, 28, 28, 16)        160       \n",
      "_________________________________________________________________\n",
      "max_pooling2d (MaxPooling2D) (None, 14, 14, 16)        0         \n",
      "_________________________________________________________________\n",
      "conv2d_1 (Conv2D)            (None, 14, 14, 8)         1160      \n",
      "_________________________________________________________________\n",
      "max_pooling2d_1 (MaxPooling2 (None, 7, 7, 8)           0         \n",
      "_________________________________________________________________\n",
      "conv2d_2 (Conv2D)            (None, 4, 4, 8)           584       \n",
      "_________________________________________________________________\n",
      "conv2d_3 (Conv2D)            (None, 4, 4, 8)           584       \n",
      "_________________________________________________________________\n",
      "up_sampling2d (UpSampling2D) (None, 8, 8, 8)           0         \n",
      "_________________________________________________________________\n",
      "conv2d_4 (Conv2D)            (None, 8, 8, 8)           584       \n",
      "_________________________________________________________________\n",
      "up_sampling2d_1 (UpSampling2 (None, 16, 16, 8)         0         \n",
      "_________________________________________________________________\n",
      "conv2d_5 (Conv2D)            (None, 14, 14, 16)        1168      \n",
      "_________________________________________________________________\n",
      "up_sampling2d_2 (UpSampling2 (None, 28, 28, 16)        0         \n",
      "_________________________________________________________________\n",
      "conv2d_6 (Conv2D)            (None, 28, 28, 1)         145       \n",
      "=================================================================\n",
      "Total params: 4,385\n",
      "Trainable params: 4,385\n",
      "Non-trainable params: 0\n",
      "_________________________________________________________________\n"
     ]
    }
   ],
   "source": [
    "autoencoder.summary()"
   ]
  },
  {
   "cell_type": "code",
   "execution_count": 5,
   "id": "e23f1d9e",
   "metadata": {},
   "outputs": [
    {
     "name": "stdout",
     "output_type": "stream",
     "text": [
      "Epoch 1/50\n",
      "469/469 [==============================] - 71s 151ms/step - loss: 0.2291 - val_loss: 0.1389\n",
      "Epoch 2/50\n",
      "469/469 [==============================] - 75s 161ms/step - loss: 0.1285 - val_loss: 0.1197\n",
      "Epoch 3/50\n",
      "469/469 [==============================] - 98s 209ms/step - loss: 0.1163 - val_loss: 0.1119\n",
      "Epoch 4/50\n",
      "469/469 [==============================] - 77s 163ms/step - loss: 0.1103 - val_loss: 0.1071\n",
      "Epoch 5/50\n",
      "469/469 [==============================] - 80s 171ms/step - loss: 0.1065 - val_loss: 0.1041\n",
      "Epoch 6/50\n",
      "469/469 [==============================] - 65s 139ms/step - loss: 0.1037 - val_loss: 0.1015\n",
      "Epoch 7/50\n",
      "469/469 [==============================] - 70s 148ms/step - loss: 0.1017 - val_loss: 0.0998\n",
      "Epoch 8/50\n",
      "469/469 [==============================] - 65s 139ms/step - loss: 0.1001 - val_loss: 0.0981\n",
      "Epoch 9/50\n",
      "469/469 [==============================] - 65s 138ms/step - loss: 0.0988 - val_loss: 0.0971\n",
      "Epoch 10/50\n",
      "469/469 [==============================] - 64s 137ms/step - loss: 0.0977 - val_loss: 0.0959\n",
      "Epoch 11/50\n",
      "469/469 [==============================] - 89s 189ms/step - loss: 0.0967 - val_loss: 0.0950\n",
      "Epoch 12/50\n",
      "469/469 [==============================] - 83s 177ms/step - loss: 0.0959 - val_loss: 0.0945\n",
      "Epoch 13/50\n",
      "469/469 [==============================] - 81s 174ms/step - loss: 0.0952 - val_loss: 0.0937\n",
      "Epoch 14/50\n",
      "469/469 [==============================] - 82s 174ms/step - loss: 0.0945 - val_loss: 0.0929\n",
      "Epoch 15/50\n",
      "469/469 [==============================] - 84s 179ms/step - loss: 0.0940 - val_loss: 0.0926\n",
      "Epoch 16/50\n",
      "469/469 [==============================] - 75s 161ms/step - loss: 0.0933 - val_loss: 0.0920\n",
      "Epoch 17/50\n",
      "469/469 [==============================] - 80s 170ms/step - loss: 0.0929 - val_loss: 0.0914\n",
      "Epoch 18/50\n",
      "469/469 [==============================] - 90s 192ms/step - loss: 0.0924 - val_loss: 0.0908\n",
      "Epoch 19/50\n",
      "469/469 [==============================] - 74s 159ms/step - loss: 0.0919 - val_loss: 0.0906\n",
      "Epoch 20/50\n",
      "469/469 [==============================] - 63s 135ms/step - loss: 0.0915 - val_loss: 0.0901\n",
      "Epoch 21/50\n",
      "469/469 [==============================] - 62s 132ms/step - loss: 0.0911 - val_loss: 0.0900\n",
      "Epoch 22/50\n",
      "469/469 [==============================] - 61s 131ms/step - loss: 0.0908 - val_loss: 0.0894\n",
      "Epoch 23/50\n",
      "469/469 [==============================] - 60s 128ms/step - loss: 0.0904 - val_loss: 0.0892\n",
      "Epoch 24/50\n",
      "469/469 [==============================] - 54s 116ms/step - loss: 0.0900 - val_loss: 0.0888\n",
      "Epoch 25/50\n",
      "469/469 [==============================] - 67s 142ms/step - loss: 0.0897 - val_loss: 0.0888\n",
      "Epoch 26/50\n",
      "469/469 [==============================] - 80s 171ms/step - loss: 0.0893 - val_loss: 0.0881\n",
      "Epoch 27/50\n",
      "469/469 [==============================] - 79s 168ms/step - loss: 0.0890 - val_loss: 0.0877\n",
      "Epoch 28/50\n",
      "469/469 [==============================] - 72s 153ms/step - loss: 0.0887 - val_loss: 0.0876\n",
      "Epoch 29/50\n",
      "469/469 [==============================] - 89s 189ms/step - loss: 0.0884 - val_loss: 0.0870\n",
      "Epoch 30/50\n",
      "469/469 [==============================] - 81s 173ms/step - loss: 0.0880 - val_loss: 0.0868\n",
      "Epoch 31/50\n",
      "469/469 [==============================] - 89s 189ms/step - loss: 0.0877 - val_loss: 0.0864\n",
      "Epoch 32/50\n",
      "469/469 [==============================] - 108s 230ms/step - loss: 0.0874 - val_loss: 0.0865\n",
      "Epoch 33/50\n",
      "469/469 [==============================] - 87s 186ms/step - loss: 0.0872 - val_loss: 0.0863\n",
      "Epoch 34/50\n",
      "469/469 [==============================] - 86s 183ms/step - loss: 0.0870 - val_loss: 0.0857\n",
      "Epoch 35/50\n",
      "469/469 [==============================] - 82s 176ms/step - loss: 0.0867 - val_loss: 0.0857\n",
      "Epoch 36/50\n",
      "469/469 [==============================] - 78s 167ms/step - loss: 0.0866 - val_loss: 0.0854\n",
      "Epoch 37/50\n",
      "469/469 [==============================] - 87s 186ms/step - loss: 0.0863 - val_loss: 0.0853\n",
      "Epoch 38/50\n",
      "469/469 [==============================] - 82s 175ms/step - loss: 0.0862 - val_loss: 0.0850\n",
      "Epoch 39/50\n",
      "469/469 [==============================] - 79s 168ms/step - loss: 0.0860 - val_loss: 0.0848\n",
      "Epoch 40/50\n",
      "469/469 [==============================] - 79s 168ms/step - loss: 0.0858 - val_loss: 0.0847\n",
      "Epoch 41/50\n",
      "469/469 [==============================] - 80s 171ms/step - loss: 0.0857 - val_loss: 0.0845\n",
      "Epoch 42/50\n",
      "469/469 [==============================] - 83s 177ms/step - loss: 0.0855 - val_loss: 0.0844\n",
      "Epoch 43/50\n",
      "469/469 [==============================] - 79s 169ms/step - loss: 0.0854 - val_loss: 0.0842\n",
      "Epoch 44/50\n",
      "469/469 [==============================] - 84s 178ms/step - loss: 0.0853 - val_loss: 0.0847\n",
      "Epoch 45/50\n",
      "469/469 [==============================] - 94s 200ms/step - loss: 0.0852 - val_loss: 0.0840\n",
      "Epoch 46/50\n",
      "469/469 [==============================] - 83s 178ms/step - loss: 0.0850 - val_loss: 0.0840\n",
      "Epoch 47/50\n",
      "469/469 [==============================] - 80s 171ms/step - loss: 0.0849 - val_loss: 0.0837\n",
      "Epoch 48/50\n",
      "469/469 [==============================] - 83s 177ms/step - loss: 0.0848 - val_loss: 0.0840\n",
      "Epoch 49/50\n",
      "469/469 [==============================] - 81s 173ms/step - loss: 0.0847 - val_loss: 0.0839\n",
      "Epoch 50/50\n",
      "469/469 [==============================] - 87s 185ms/step - loss: 0.0846 - val_loss: 0.0834\n"
     ]
    },
    {
     "data": {
      "text/plain": [
       "<tensorflow.python.keras.callbacks.History at 0x161b7e9e5c8>"
      ]
     },
     "execution_count": 5,
     "metadata": {},
     "output_type": "execute_result"
    }
   ],
   "source": [
    "autoencoder.compile(optimizer='adam', loss='binary_crossentropy')\n",
    "autoencoder.fit(X_train, X_train, epochs=50, \\\n",
    "                batch_size=128, validation_data=(X_test, X_test))"
   ]
  },
  {
   "cell_type": "code",
   "execution_count": 6,
   "id": "f1069bef",
   "metadata": {},
   "outputs": [
    {
     "data": {
      "image/png": "[encoded data removed]",
      "text/plain": [
       "<Figure size 700x200 with 10 Axes>"
      ]
     },
     "metadata": {},
     "output_type": "display_data"
    }
   ],
   "source": [
    "random_test = np.random.randint(X_test.shape[0], size=5)  #테스트할 이미지를 랜덤하게 불러옵니다.\n",
    "ae_imgs = autoencoder.predict(X_test)  #앞서 만든 오토인코더 모델에 집어 넣습니다.\n",
    "\n",
    "plt.figure(figsize=(7, 2))  #출력될 이미지의 크기를 정합니다.\n",
    "\n",
    "for i, image_idx in enumerate(random_test):    #랜덤하게 뽑은 이미지를 차례로 나열합니다.\n",
    "   ax = plt.subplot(2, 7, i + 1) \n",
    "   plt.imshow(X_test[image_idx].reshape(28, 28))  #테스트할 이미지를 먼저 그대로 보여줍니다.\n",
    "   ax.axis('off')\n",
    "   ax = plt.subplot(2, 7, 7 + i +1)\n",
    "   plt.imshow(ae_imgs[image_idx].reshape(28, 28))  #오토인코딩 결과를 다음열에 출력합니다.\n",
    "   ax.axis('off')\n",
    "plt.show()"
   ]
  }
 ],
 "metadata": {
  "kernelspec": {
   "display_name": "Python 3",
   "language": "python",
   "name": "python3"
  },
  "language_info": {
   "codemirror_mode": {
    "name": "ipython",
    "version": 3
   },
   "file_extension": ".py",
   "mimetype": "text/x-python",
   "name": "python",
   "nbconvert_exporter": "python",
   "pygments_lexer": "ipython3",
   "version": "3.7.11"
  }
 },
 "nbformat": 4,
 "nbformat_minor": 5
}
