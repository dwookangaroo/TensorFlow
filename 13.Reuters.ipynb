{
 "cells": [
  {
   "cell_type": "code",
   "execution_count": 1,
   "id": "ce455650",
   "metadata": {},
   "outputs": [],
   "source": [
    "from tensorflow.keras.preprocessing.sequence import pad_sequences\n",
    "from tensorflow.keras.models import Sequential\n",
    "from tensorflow.keras.layers import Dense, Flatten, Embedding, LSTM\n",
    "\n",
    "from tensorflow.keras.datasets import reuters # 데이터셋 가져오기\n",
    "\n",
    "from tensorflow.keras.preprocessing import sequence\n",
    "from tensorflow.keras.utils import to_categorical\n",
    "\n",
    "import numpy as np\n",
    "import tensorflow as tf\n",
    "import matplotlib.pyplot as plt\n",
    "\n",
    "\n",
    "\n"
   ]
  },
  {
   "cell_type": "code",
   "execution_count": 2,
   "id": "f0e0059e",
   "metadata": {},
   "outputs": [
    {
     "name": "stderr",
     "output_type": "stream",
     "text": [
      "C:\\Users\\82108\\anaconda3\\envs\\ts\\lib\\site-packages\\tensorflow\\python\\keras\\datasets\\reuters.py:148: VisibleDeprecationWarning: Creating an ndarray from ragged nested sequences (which is a list-or-tuple of lists-or-tuples-or ndarrays with different lengths or shapes) is deprecated. If you meant to do this, you must specify 'dtype=object' when creating the ndarray\n",
      "  x_train, y_train = np.array(xs[:idx]), np.array(labels[:idx])\n",
      "C:\\Users\\82108\\anaconda3\\envs\\ts\\lib\\site-packages\\tensorflow\\python\\keras\\datasets\\reuters.py:149: VisibleDeprecationWarning: Creating an ndarray from ragged nested sequences (which is a list-or-tuple of lists-or-tuples-or ndarrays with different lengths or shapes) is deprecated. If you meant to do this, you must specify 'dtype=object' when creating the ndarray\n",
      "  x_test, y_test = np.array(xs[idx:]), np.array(labels[idx:])\n"
     ]
    }
   ],
   "source": [
    "# 테스트 20프로 train 80프로\n",
    "(X_train, y_train), (X_test, y_test) = \\\n",
    "                    reuters.load_data(num_words=1000, test_split=0.2) # 상위 천개만 사용\n",
    "# 빈도가 1~1,000에 해당하는 단어만 선택해서 불러오는 것입니다.\n"
   ]
  },
  {
   "cell_type": "code",
   "execution_count": 3,
   "id": "980f42ae",
   "metadata": {},
   "outputs": [
    {
     "name": "stdout",
     "output_type": "stream",
     "text": [
      "46 카테고리\n",
      "8982 학습용 뉴스 기사\n",
      "2246 테스트용 뉴스 기사\n",
      "[1, 2, 2, 8, 43, 10, 447, 5, 25, 207, 270, 5, 2, 111, 16, 369, 186, 90, 67, 7, 89, 5, 19, 102, 6, 19, 124, 15, 90, 67, 84, 22, 482, 26, 7, 48, 4, 49, 8, 864, 39, 209, 154, 6, 151, 6, 83, 11, 15, 22, 155, 11, 15, 7, 48, 9, 2, 2, 504, 6, 258, 6, 272, 11, 15, 22, 134, 44, 11, 15, 16, 8, 197, 2, 90, 67, 52, 29, 209, 30, 32, 132, 6, 109, 15, 17, 12]\n"
     ]
    }
   ],
   "source": [
    "# 데이터 확인 후 출력\n",
    "category = np.max(y_train) + 1\n",
    "print(category, '카테고리')\n",
    "print(len(X_train), '학습용 뉴스 기사')\n",
    "print(len(X_test), '테스트용 뉴스 기사')\n",
    "print(X_train[0])"
   ]
  },
  {
   "cell_type": "code",
   "execution_count": 4,
   "id": "c5dd512b",
   "metadata": {},
   "outputs": [],
   "source": [
    "# 데이터 전처리\n",
    "X_train = sequence.pad_sequences(X_train, maxlen=100)\n",
    "X_test = sequence.pad_sequences(X_test, maxlen=100)\n",
    "y_train = to_categorical(y_train) #원핫인코딩\n",
    "y_test = to_categorical(y_test)"
   ]
  },
  {
   "cell_type": "code",
   "execution_count": 5,
   "id": "5c780033",
   "metadata": {},
   "outputs": [
    {
     "name": "stdout",
     "output_type": "stream",
     "text": [
      "[0. 0. 0. 1. 0. 0. 0. 0. 0. 0. 0. 0. 0. 0. 0. 0. 0. 0. 0. 0. 0. 0. 0. 0.\n",
      " 0. 0. 0. 0. 0. 0. 0. 0. 0. 0. 0. 0. 0. 0. 0. 0. 0. 0. 0. 0. 0. 0.]\n"
     ]
    }
   ],
   "source": [
    "print(y_train[0]) "
   ]
  },
  {
   "cell_type": "code",
   "execution_count": 6,
   "id": "d32060b4",
   "metadata": {},
   "outputs": [],
   "source": [
    "model = Sequential()\n",
    "model.add(Embedding(1000, 100))# 1000차원을 100으로 전환\n",
    "model.add(LSTM(100, activation='tanh'))\n",
    "model.add(Dense(46, activation ='softmax'))"
   ]
  },
  {
   "cell_type": "code",
   "execution_count": 7,
   "id": "f191b170",
   "metadata": {},
   "outputs": [
    {
     "name": "stdout",
     "output_type": "stream",
     "text": [
      "Model: \"sequential\"\n",
      "_________________________________________________________________\n",
      "Layer (type)                 Output Shape              Param #   \n",
      "=================================================================\n",
      "embedding (Embedding)        (None, None, 100)         100000    \n",
      "_________________________________________________________________\n",
      "lstm (LSTM)                  (None, 100)               80400     \n",
      "_________________________________________________________________\n",
      "dense (Dense)                (None, 46)                4646      \n",
      "=================================================================\n",
      "Total params: 185,046\n",
      "Trainable params: 185,046\n",
      "Non-trainable params: 0\n",
      "_________________________________________________________________\n"
     ]
    }
   ],
   "source": [
    "model.summary()"
   ]
  },
  {
   "cell_type": "markdown",
   "id": "f41c6c02",
   "metadata": {},
   "source": [
    "params = 4 * ((size_of_input + 1) * size_of_output + size_of_output^2)\n",
    "\n",
    "input =100 <== embedding 레이어에서 100으로\n",
    "\n",
    "output = 100 <== lstm 첫번쨰 인자\n",
    "\n",
    "4 * ((100 + 1) * 100 + 100^2) = 80,400"
   ]
  },
  {
   "cell_type": "code",
   "execution_count": 8,
   "id": "fc1ed867",
   "metadata": {},
   "outputs": [],
   "source": [
    "model.compile(loss='categorical_crossentropy',\n",
    "             optimizer='adam',\n",
    "             metrics=['accuracy'])"
   ]
  },
  {
   "cell_type": "code",
   "execution_count": 9,
   "id": "b6111c09",
   "metadata": {},
   "outputs": [
    {
     "name": "stdout",
     "output_type": "stream",
     "text": [
      "Epoch 1/20\n",
      "90/90 [==============================] - 16s 176ms/step - loss: 2.5750 - accuracy: 0.3573 - val_loss: 2.2070 - val_accuracy: 0.4804\n",
      "Epoch 2/20\n",
      "90/90 [==============================] - 16s 176ms/step - loss: 2.0570 - accuracy: 0.4748 - val_loss: 1.9425 - val_accuracy: 0.4938\n",
      "Epoch 3/20\n",
      "90/90 [==============================] - 18s 198ms/step - loss: 1.8276 - accuracy: 0.5240 - val_loss: 1.8120 - val_accuracy: 0.5401\n",
      "Epoch 4/20\n",
      "90/90 [==============================] - 21s 235ms/step - loss: 1.7306 - accuracy: 0.5485 - val_loss: 1.7823 - val_accuracy: 0.5410\n",
      "Epoch 5/20\n",
      "90/90 [==============================] - 20s 219ms/step - loss: 1.7023 - accuracy: 0.5603 - val_loss: 1.7950 - val_accuracy: 0.5414\n",
      "Epoch 6/20\n",
      "90/90 [==============================] - 18s 200ms/step - loss: 1.6462 - accuracy: 0.5750 - val_loss: 1.6699 - val_accuracy: 0.5828\n",
      "Epoch 7/20\n",
      "90/90 [==============================] - 19s 213ms/step - loss: 1.5510 - accuracy: 0.6112 - val_loss: 1.6043 - val_accuracy: 0.5997\n",
      "Epoch 8/20\n",
      "90/90 [==============================] - 19s 214ms/step - loss: 1.4544 - accuracy: 0.6435 - val_loss: 1.5044 - val_accuracy: 0.6229\n",
      "Epoch 9/20\n",
      "90/90 [==============================] - 20s 218ms/step - loss: 1.3422 - accuracy: 0.6680 - val_loss: 1.4343 - val_accuracy: 0.6451\n",
      "Epoch 10/20\n",
      "90/90 [==============================] - 18s 199ms/step - loss: 1.2706 - accuracy: 0.6830 - val_loss: 1.3476 - val_accuracy: 0.6594\n",
      "Epoch 11/20\n",
      "90/90 [==============================] - 18s 201ms/step - loss: 1.2154 - accuracy: 0.6935 - val_loss: 1.3052 - val_accuracy: 0.6705\n",
      "Epoch 12/20\n",
      "90/90 [==============================] - 18s 201ms/step - loss: 1.1453 - accuracy: 0.7102 - val_loss: 1.2720 - val_accuracy: 0.6790\n",
      "Epoch 13/20\n",
      "90/90 [==============================] - 19s 215ms/step - loss: 1.0932 - accuracy: 0.7213 - val_loss: 1.2323 - val_accuracy: 0.6981\n",
      "Epoch 14/20\n",
      "90/90 [==============================] - 22s 240ms/step - loss: 1.0364 - accuracy: 0.7357 - val_loss: 1.2454 - val_accuracy: 0.6852\n",
      "Epoch 15/20\n",
      "90/90 [==============================] - 20s 219ms/step - loss: 0.9805 - accuracy: 0.7522 - val_loss: 1.2048 - val_accuracy: 0.6968\n",
      "Epoch 16/20\n",
      "90/90 [==============================] - 20s 226ms/step - loss: 0.9435 - accuracy: 0.7600 - val_loss: 1.1818 - val_accuracy: 0.7075\n",
      "Epoch 17/20\n",
      "90/90 [==============================] - 22s 239ms/step - loss: 0.8961 - accuracy: 0.7750 - val_loss: 1.2044 - val_accuracy: 0.7057\n",
      "Epoch 18/20\n",
      "90/90 [==============================] - 18s 206ms/step - loss: 0.8745 - accuracy: 0.7776 - val_loss: 1.1703 - val_accuracy: 0.7075\n",
      "Epoch 19/20\n",
      "90/90 [==============================] - 22s 249ms/step - loss: 0.8319 - accuracy: 0.7906 - val_loss: 1.1615 - val_accuracy: 0.7128\n",
      "Epoch 20/20\n",
      "90/90 [==============================] - 25s 274ms/step - loss: 0.7886 - accuracy: 0.8026 - val_loss: 1.1908 - val_accuracy: 0.7048\n"
     ]
    }
   ],
   "source": [
    "history = model.fit(X_train, y_train, batch_size=100, \\\n",
    "                   epochs=20, validation_data=(X_test, y_test))"
   ]
  },
  {
   "cell_type": "code",
   "execution_count": 10,
   "id": "1f2ca83f",
   "metadata": {},
   "outputs": [
    {
     "name": "stdout",
     "output_type": "stream",
     "text": [
      "71/71 [==============================] - 3s 44ms/step - loss: 1.1908 - accuracy: 0.7048\n",
      "\n",
      " Test Accuracy: 0.7048\n"
     ]
    }
   ],
   "source": [
    "# 테스트 정확도 출력\n",
    "print(\"\\n Test Accuracy: %.4f\" % (model.evaluate(X_test, y_test)[1]))"
   ]
  },
  {
   "cell_type": "code",
   "execution_count": 11,
   "id": "feb1ff3f",
   "metadata": {},
   "outputs": [],
   "source": [
    "# 테스트셋의 오차\n",
    "y_vloss = history.history['val_loss']\n",
    "  \n",
    "# 학습셋의 오차\n",
    "y_loss = history.history['loss']"
   ]
  },
  {
   "cell_type": "code",
   "execution_count": 13,
   "id": "dcadc3ef",
   "metadata": {},
   "outputs": [
    {
     "data": {
      "image/png": "[encoded data removed]",
      "text/plain": [
       "<Figure size 640x480 with 1 Axes>"
      ]
     },
     "metadata": {},
     "output_type": "display_data"
    }
   ],
   "source": [
    "# 그래프로 표현\n",
    "X_len = np.arange(len(y_loss))\n",
    "plt.plot(X_len, y_vloss, marker='.', c=\"red\", label='Testset_loss')\n",
    "plt.plot(X_len, y_loss, marker='.', c=\"blue\", label='Trainset_loss')\n",
    "  \n",
    "# 그래프에 그리드를 추가하고 레이블을 표시\n",
    "plt.legend(loc='upper right')\n",
    "plt.grid()\n",
    "plt.xlabel('epoch')\n",
    "plt.ylabel('loss')\n",
    "plt.show()"
   ]
  }
 ],
 "metadata": {
  "kernelspec": {
   "display_name": "Python 3",
   "language": "python",
   "name": "python3"
  },
  "language_info": {
   "codemirror_mode": {
    "name": "ipython",
    "version": 3
   },
   "file_extension": ".py",
   "mimetype": "text/x-python",
   "name": "python",
   "nbconvert_exporter": "python",
   "pygments_lexer": "ipython3",
   "version": "3.7.11"
  }
 },
 "nbformat": 4,
 "nbformat_minor": 5
}
